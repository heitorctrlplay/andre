{
 "cells": [
  {
   "cell_type": "code",
   "execution_count": null,
   "id": "1e3b800a-370b-47f6-86b0-8c83c7c8fe2a",
   "metadata": {},
   "outputs": [],
   "source": [
    "print('branch task 11:31')\n",
    "#aprovada branch task1 11:34\n",
    "#verificar branch task 11:37"
   ]
  }
 ],
 "metadata": {
  "kernelspec": {
   "display_name": "Python 3 (ipykernel)",
   "language": "python",
   "name": "python3"
  },
  "language_info": {
   "codemirror_mode": {
    "name": "ipython",
    "version": 3
   },
   "file_extension": ".py",
   "mimetype": "text/x-python",
   "name": "python",
   "nbconvert_exporter": "python",
   "pygments_lexer": "ipython3",
   "version": "3.11.7"
  }
 },
 "nbformat": 4,
 "nbformat_minor": 5
}
